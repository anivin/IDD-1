{
  "nbformat": 4,
  "nbformat_minor": 0,
  "metadata": {
    "colab": {
      "name": "Untitled",
      "provenance": [],
      "collapsed_sections": [],
      "machine_shape": "hm",
      "include_colab_link": true
    },
    "kernelspec": {
      "name": "python3",
      "display_name": "Python 3"
    },
    "accelerator": "GPU"
  },
  "cells": [
    {
      "cell_type": "markdown",
      "metadata": {
        "id": "view-in-github",
        "colab_type": "text"
      },
      "source": [
        "<a href=\"https://colab.research.google.com/github/mohanrajmit/IDD/blob/master/seg_updated.ipynb\" target=\"_parent\"><img src=\"https://colab.research.google.com/assets/colab-badge.svg\" alt=\"Open In Colab\"/></a>"
      ]
    },
    {
      "cell_type": "code",
      "metadata": {
        "id": "jpwR-KJ5IKRz",
        "colab_type": "code",
        "outputId": "91370616-222b-423f-c86e-659b6bc13b98",
        "colab": {
          "base_uri": "https://localhost:8080/",
          "height": 138
        }
      },
      "source": [
        "!git clone https://github.com/mohanrajmit/IDD.git"
      ],
      "execution_count": 1,
      "outputs": [
        {
          "output_type": "stream",
          "text": [
            "Cloning into 'IDD'...\n",
            "remote: Enumerating objects: 4858, done.\u001b[K\n",
            "remote: Counting objects: 100% (4858/4858), done.\u001b[K\n",
            "remote: Compressing objects: 100% (4470/4470), done.\u001b[K\n",
            "remote: Total 4858 (delta 207), reused 4767 (delta 125), pack-reused 0\u001b[K\n",
            "Receiving objects: 100% (4858/4858), 27.21 MiB | 28.73 MiB/s, done.\n",
            "Resolving deltas: 100% (207/207), done.\n"
          ],
          "name": "stdout"
        }
      ]
    },
    {
      "cell_type": "code",
      "metadata": {
        "id": "eJNeedTfIcNc",
        "colab_type": "code",
        "colab": {}
      },
      "source": [
        "import cv2\n",
        "from imutils import paths"
      ],
      "execution_count": 0,
      "outputs": []
    },
    {
      "cell_type": "code",
      "metadata": {
        "id": "2TnTCu1WJuZx",
        "colab_type": "code",
        "colab": {}
      },
      "source": [
        "labels_path= paths.list_images(\"/content/IDD/idd20k_lite/gtFine\")\n"
      ],
      "execution_count": 0,
      "outputs": []
    },
    {
      "cell_type": "code",
      "metadata": {
        "id": "rEPbT__QmKfn",
        "colab_type": "code",
        "colab": {}
      },
      "source": [
        "def binarylab(labels_name):\n",
        "  #counter=0\n",
        "  #print(labels_name.shape)\n",
        "  x = np.zeros([227,320,8])\n",
        "  for i in range(227):\n",
        "    for j in range(320):      \n",
        "      if (labels_name[i][j]>=7):\n",
        "        #print(counter)\n",
        "        x[i,j,7]=1\n",
        "      else:\n",
        "        x[i,j,labels_name[i][j]]=1\n",
        "\n",
        "  return x"
      ],
      "execution_count": 0,
      "outputs": []
    },
    {
      "cell_type": "code",
      "metadata": {
        "id": "Sx8Pf9LuKqzD",
        "colab_type": "code",
        "colab": {}
      },
      "source": [
        "train_labels=[]\n",
        "val_labels = []\n",
        "train_labels_conv = []\n",
        "val_labels_conv = []\n",
        "import numpy as np\n",
        "for imagePath in labels_path:\n",
        "  #print(imagePath)\n",
        "  make = imagePath.split(\"/\")[-3]\n",
        "  #print(make)\n",
        "  image = cv2.imread(imagePath)\n",
        "  b,g,r = cv2.split(image)\n",
        "  binary_label = binarylab(r)\n",
        "  if make == \"train\":\n",
        "    train_labels.append(image)\n",
        "    train_labels_conv.append(binary_label)\n",
        "  else:\n",
        "    val_labels.append(image)\n",
        "    val_labels_conv.append(binary_label)\n",
        "#print(images_path[0])"
      ],
      "execution_count": 0,
      "outputs": []
    },
    {
      "cell_type": "code",
      "metadata": {
        "id": "1zHK6hM6O0qa",
        "colab_type": "code",
        "outputId": "fee78bda-0109-476f-fade-6955fe907b26",
        "colab": {
          "base_uri": "https://localhost:8080/",
          "height": 34
        }
      },
      "source": [
        "train_labels = np.array(train_labels)\n",
        "val_labels = np.array(val_labels)\n",
        "train_labels_conv = np.array(train_labels_conv)\n",
        "val_labels_conv = np.array(val_labels_conv)\n",
        "#sample= train_laebls[0]\n",
        "print(train_labels.shape)"
      ],
      "execution_count": 6,
      "outputs": [
        {
          "output_type": "stream",
          "text": [
            "(1403, 227, 320, 3)\n"
          ],
          "name": "stdout"
        }
      ]
    },
    {
      "cell_type": "code",
      "metadata": {
        "id": "0-1J_D9yliha",
        "colab_type": "code",
        "colab": {}
      },
      "source": [
        "train_labels1 = train_labels_conv.reshape(1403,72640,8)\n",
        "val_labels1 = val_labels_conv.reshape(204,72640,8)"
      ],
      "execution_count": 0,
      "outputs": []
    },
    {
      "cell_type": "code",
      "metadata": {
        "id": "8jUNYqNal81r",
        "colab_type": "code",
        "outputId": "81f02fa6-3b5e-4b6e-978d-34824f6f0e47",
        "colab": {
          "base_uri": "https://localhost:8080/",
          "height": 34
        }
      },
      "source": [
        "print(train_labels1.shape)"
      ],
      "execution_count": 8,
      "outputs": [
        {
          "output_type": "stream",
          "text": [
            "(1403, 72640, 8)\n"
          ],
          "name": "stdout"
        }
      ]
    },
    {
      "cell_type": "code",
      "metadata": {
        "id": "UE_wrPXcKwiJ",
        "colab_type": "code",
        "colab": {}
      },
      "source": [
        "images_path=paths.list_images(\"/content/IDD/idd20k_lite/leftImg8bit\")"
      ],
      "execution_count": 0,
      "outputs": []
    },
    {
      "cell_type": "code",
      "metadata": {
        "id": "XnFDZ964PYl7",
        "colab_type": "code",
        "colab": {}
      },
      "source": [
        "train_images = []\n",
        "val_images = []\n",
        "test_images = []\n",
        "import numpy as np\n",
        "for imagePath in images_path:\n",
        "  #print(imagePath)\n",
        "  make = imagePath.split(\"/\")[-3]\n",
        "  #print(make)\n",
        "  image = cv2.imread(imagePath)\n",
        "  if make == \"train\":\n",
        "    train_images.append(image)\n",
        "  elif make == \"test\":\n",
        "    test_images.append(image)\n",
        "  else:\n",
        "    val_images.append(image)"
      ],
      "execution_count": 0,
      "outputs": []
    },
    {
      "cell_type": "code",
      "metadata": {
        "id": "PUZmeoeBP8xV",
        "colab_type": "code",
        "colab": {}
      },
      "source": [
        "train_images = np.array(train_images)\n",
        "val_images = np.array(val_images)\n",
        "test_images = np.array(test_images)"
      ],
      "execution_count": 0,
      "outputs": []
    },
    {
      "cell_type": "code",
      "metadata": {
        "id": "ugjO2sMhQGjX",
        "colab_type": "code",
        "outputId": "ea85a35d-90bb-401c-c636-abd0f9d7897d",
        "colab": {
          "base_uri": "https://localhost:8080/",
          "height": 69
        }
      },
      "source": [
        "print(train_images.shape)\n",
        "print(test_images.shape)\n",
        "print(val_images.shape)"
      ],
      "execution_count": 12,
      "outputs": [
        {
          "output_type": "stream",
          "text": [
            "(1403, 227, 320, 3)\n",
            "(404, 227, 320, 3)\n",
            "(204, 227, 320, 3)\n"
          ],
          "name": "stdout"
        }
      ]
    },
    {
      "cell_type": "code",
      "metadata": {
        "id": "Mv0c5seAQMgZ",
        "colab_type": "code",
        "outputId": "94e3d7be-d1f7-42e6-e095-efe3f4452282",
        "colab": {
          "base_uri": "https://localhost:8080/",
          "height": 321
        }
      },
      "source": [
        "sample_image_label = train_labels[0]\n",
        "sample_image = train_images[0]\n",
        "print(sample_image_label.shape)\n",
        "print(sample_image.shape)\n",
        "from matplotlib import pyplot as plt\n",
        "import imutils\n",
        "plt.figure(\"original_image\")\n",
        "plt.imshow(imutils.opencv2matplotlib(sample_image))"
      ],
      "execution_count": 13,
      "outputs": [
        {
          "output_type": "stream",
          "text": [
            "(227, 320, 3)\n",
            "(227, 320, 3)\n"
          ],
          "name": "stdout"
        },
        {
          "output_type": "execute_result",
          "data": {
            "text/plain": [
              "<matplotlib.image.AxesImage at 0x7fe3a8dd0400>"
            ]
          },
          "metadata": {
            "tags": []
          },
          "execution_count": 13
        },
        {
          "output_type": "display_data",
          "data": {
            "image/png": "[encoded data removed]",
            "text/plain": [
              "<Figure size 432x288 with 1 Axes>"
            ]
          },
          "metadata": {
            "tags": []
          }
        }
      ]
    },
    {
      "cell_type": "code",
      "metadata": {
        "id": "Al5-OBn3TQS0",
        "colab_type": "code",
        "colab": {}
      },
      "source": [
        "Sky = [128,128,128]\n",
        "Building = [128,0,0]\n",
        "Road = [128,64,128]\n",
        "Tree = [128,128,0]\n",
        "SignSymbol = [192,128,128]\n",
        "Car = [64,0,128]\n",
        "Pedestrian = [64,64,0]\n",
        "unknown=[0,0,0]\n",
        "\n",
        "\n",
        "label_colours = np.array([Sky, Building, Road,Tree, SignSymbol, Car, Pedestrian,unknown])\n",
        "\n",
        "def visualize(temp, plot=True):\n",
        "    b,g,r = cv2.split(temp)\n",
        "    #r = temp.copy()\n",
        "    #g = temp.copy()\n",
        "    #b = temp.copy()\n",
        "    for l in range(0,7):\n",
        "        r[r==l]=label_colours[l,0]\n",
        "        g[g==l]=label_colours[l,1]\n",
        "        b[b==l]=label_colours[l,2]\n",
        "        r[r==255]=label_colours[7,0]\n",
        "        g[g==255]=label_colours[7,1]\n",
        "        b[b==255]=label_colours[7,2]\n",
        "\n",
        "    rgb = np.zeros((b.shape[0], b.shape[1], 3))\n",
        "    rgb[:,:,0] = (r)#[:,:,0]\n",
        "    rgb[:,:,1] = (g)#[:,:,1]\n",
        "    rgb[:,:,2] = (b)#[:,:,2]\n",
        "    if plot:\n",
        "        plt.imshow(rgb)\n",
        "    else:\n",
        "        return rgb"
      ],
      "execution_count": 0,
      "outputs": []
    },
    {
      "cell_type": "code",
      "metadata": {
        "id": "ldfzzk4qRrNo",
        "colab_type": "code",
        "outputId": "0cfec95a-7f4e-4aa9-ed62-9570bba97ced",
        "colab": {
          "base_uri": "https://localhost:8080/",
          "height": 306
        }
      },
      "source": [
        "visualize(sample_image_label)"
      ],
      "execution_count": 15,
      "outputs": [
        {
          "output_type": "stream",
          "text": [
            "Clipping input data to the valid range for imshow with RGB data ([0..1] for floats or [0..255] for integers).\n"
          ],
          "name": "stderr"
        },
        {
          "output_type": "display_data",
          "data": {
            "image/png": "[encoded data removed]",
            "text/plain": [
              "<Figure size 432x288 with 1 Axes>"
            ]
          },
          "metadata": {
            "tags": []
          }
        }
      ]
    },
    {
      "cell_type": "code",
      "metadata": {
        "id": "qdS7Dz2LfmKn",
        "colab_type": "code",
        "outputId": "9ee614c5-9daa-4d39-aeec-a12d290b2d27",
        "colab": {
          "base_uri": "https://localhost:8080/",
          "height": 97
        }
      },
      "source": [
        "import keras.models as models\n",
        "from keras.layers.core import Layer, Dense, Dropout, Activation, Flatten, Reshape, Permute\n",
        "from keras.layers.convolutional import Convolution2D, MaxPooling2D, UpSampling2D, ZeroPadding2D\n",
        "from keras.layers.normalization import BatchNormalization\n",
        "from keras.callbacks import ModelCheckpoint\n",
        "from keras.layers import merge"
      ],
      "execution_count": 16,
      "outputs": [
        {
          "output_type": "stream",
          "text": [
            "Using TensorFlow backend.\n"
          ],
          "name": "stderr"
        },
        {
          "output_type": "display_data",
          "data": {
            "text/html": [
              "<p style=\"color: red;\">\n",
              "The default version of TensorFlow in Colab will soon switch to TensorFlow 2.x.<br>\n",
              "We recommend you <a href=\"https://www.tensorflow.org/guide/migrate\" target=\"_blank\">upgrade</a> now \n",
              "or ensure your notebook will continue to use TensorFlow 1.x via the <code>%tensorflow_version 1.x</code> magic:\n",
              "<a href=\"https://colab.research.google.com/notebooks/tensorflow_version.ipynb\" target=\"_blank\">more info</a>.</p>\n"
            ],
            "text/plain": [
              "<IPython.core.display.HTML object>"
            ]
          },
          "metadata": {
            "tags": []
          }
        }
      ]
    },
    {
      "cell_type": "code",
      "metadata": {
        "id": "CkK0C1GAk-Gy",
        "colab_type": "code",
        "colab": {}
      },
      "source": [
        "from keras import backend as K\n",
        "K.set_image_data_format('channels_last')\n",
        "from keras.layers import Lambda, Input\n",
        "import tensorflow as tf\n",
        "\n",
        "#from keras.backend import tf as ktf"
      ],
      "execution_count": 0,
      "outputs": []
    },
    {
      "cell_type": "code",
      "metadata": {
        "id": "jZrzlYX0jboU",
        "colab_type": "code",
        "outputId": "a5926856-0caa-4dc9-c36c-ebf3272165dc",
        "colab": {
          "base_uri": "https://localhost:8080/",
          "height": 749
        }
      },
      "source": [
        "def create_encoding_layers():\n",
        "    kernel = 3\n",
        "    filter_size = 64\n",
        "    pad = 1\n",
        "    pool_size = 2\n",
        "    return [\n",
        "        ZeroPadding2D(padding=(pad,pad)),\n",
        "        Convolution2D(filter_size, kernel, kernel, border_mode='valid'),\n",
        "        BatchNormalization(),\n",
        "        Activation('relu'),\n",
        "        MaxPooling2D(pool_size=(2, 2),strides=2),\n",
        "\n",
        "        ZeroPadding2D(padding=(pad,pad)),\n",
        "        Convolution2D(128, kernel, kernel, border_mode='valid'),\n",
        "        BatchNormalization(),\n",
        "        Activation('relu'),\n",
        "        MaxPooling2D(pool_size=(pool_size, pool_size),strides=2),\n",
        "\n",
        "        ZeroPadding2D(padding=(pad,pad)),\n",
        "        Convolution2D(256, kernel, kernel, border_mode='valid'),\n",
        "        BatchNormalization(),\n",
        "        Activation('relu'),\n",
        "        MaxPooling2D(pool_size=(pool_size, pool_size),strides=2),\n",
        "\n",
        "        ZeroPadding2D(padding=(pad,pad)),\n",
        "        Convolution2D(512, kernel, kernel, border_mode='valid'),\n",
        "        BatchNormalization(),\n",
        "        Activation('relu'),\n",
        "    ]\n",
        "\n",
        "def create_decoding_layers():\n",
        "    kernel = 3\n",
        "    filter_size = 64\n",
        "    pad = 1\n",
        "    pool_size = 2\n",
        "    return[\n",
        "        ZeroPadding2D(padding=(pad,pad)),\n",
        "        Convolution2D(512, kernel, kernel, border_mode='valid'),\n",
        "        BatchNormalization(),\n",
        "\n",
        "        UpSampling2D(size=(pool_size,pool_size)),\n",
        "        ZeroPadding2D(padding=(pad,pad)),\n",
        "        Convolution2D(256, kernel, kernel, border_mode='valid'),\n",
        "        BatchNormalization(),\n",
        "\n",
        "        UpSampling2D(size=(pool_size,pool_size)),\n",
        "        ZeroPadding2D(padding=(pad,pad)),\n",
        "        Convolution2D(128, kernel, kernel, border_mode='valid'),\n",
        "        BatchNormalization(),\n",
        "\n",
        "        UpSampling2D(size=(pool_size,pool_size)),\n",
        "        ZeroPadding2D(padding=(pad,pad)),\n",
        "        Convolution2D(filter_size, kernel, kernel, border_mode='valid'),\n",
        "        BatchNormalization(),\n",
        "    ]\n",
        "data_shape = 227*320\n",
        "\n",
        "\n",
        "segnet_basic = models.Sequential()\n",
        "\n",
        "segnet_basic.add(Layer(input_shape=(227,320,3)))\n",
        "\n",
        "\n",
        "\n",
        "segnet_basic.encoding_layers = create_encoding_layers()\n",
        "for l in segnet_basic.encoding_layers:\n",
        "    segnet_basic.add(l)\n",
        "\n",
        "# Note: it this looks weird, that is because of adding Each Layer using that for loop\n",
        "# instead of re-writting mode.add(somelayer+params) everytime.\n",
        "\n",
        "segnet_basic.decoding_layers = create_decoding_layers()\n",
        "for l in segnet_basic.decoding_layers:\n",
        "    segnet_basic.add(l)\n",
        "\n",
        "#segnet_basic.add(ZeroPadding2D(padding=(2,0)))\n",
        "\n",
        "segnet_basic.add(Convolution2D(8, 1, 1, border_mode='valid'))\n",
        "segnet_basic.add(Lambda(lambda image: tf.image.resize_images(image,(227,320))))\n",
        "#segnet_basic.add(Reshape(-1,3), input_shape=(224,320,7))\n",
        "#segnet_basic.add(Lambda(lambda x: x[:508480])) # throw away some, so that #data = 224^2\n",
        "#segnet_basic.add(Reshape(227,320,7))\n",
        "\n",
        "#\n",
        "\n",
        "segnet_basic.add(Reshape((data_shape,8), input_shape=(227,320,8)))\n",
        "#segnet_basic.add(Permute((2, 1)))\n",
        "segnet_basic.add(Activation('softmax'))\n",
        "segnet_basic.compile(loss=\"categorical_crossentropy\", optimizer='adadelta', metrics=[\"accuracy\"])"
      ],
      "execution_count": 18,
      "outputs": [
        {
          "output_type": "stream",
          "text": [
            "WARNING:tensorflow:From /usr/local/lib/python3.6/dist-packages/keras/backend/tensorflow_backend.py:66: The name tf.get_default_graph is deprecated. Please use tf.compat.v1.get_default_graph instead.\n",
            "\n",
            "WARNING:tensorflow:From /usr/local/lib/python3.6/dist-packages/keras/backend/tensorflow_backend.py:541: The name tf.placeholder is deprecated. Please use tf.compat.v1.placeholder instead.\n",
            "\n",
            "WARNING:tensorflow:From /usr/local/lib/python3.6/dist-packages/keras/backend/tensorflow_backend.py:4432: The name tf.random_uniform is deprecated. Please use tf.random.uniform instead.\n",
            "\n",
            "WARNING:tensorflow:From /usr/local/lib/python3.6/dist-packages/keras/backend/tensorflow_backend.py:190: The name tf.get_default_session is deprecated. Please use tf.compat.v1.get_default_session instead.\n",
            "\n",
            "WARNING:tensorflow:From /usr/local/lib/python3.6/dist-packages/keras/backend/tensorflow_backend.py:197: The name tf.ConfigProto is deprecated. Please use tf.compat.v1.ConfigProto instead.\n",
            "\n",
            "WARNING:tensorflow:From /usr/local/lib/python3.6/dist-packages/keras/backend/tensorflow_backend.py:203: The name tf.Session is deprecated. Please use tf.compat.v1.Session instead.\n",
            "\n"
          ],
          "name": "stdout"
        },
        {
          "output_type": "stream",
          "text": [
            "/usr/local/lib/python3.6/dist-packages/ipykernel_launcher.py:8: UserWarning: Update your `Conv2D` call to the Keras 2 API: `Conv2D(64, (3, 3), padding=\"valid\")`\n",
            "  \n",
            "/usr/local/lib/python3.6/dist-packages/ipykernel_launcher.py:14: UserWarning: Update your `Conv2D` call to the Keras 2 API: `Conv2D(128, (3, 3), padding=\"valid\")`\n",
            "  \n",
            "/usr/local/lib/python3.6/dist-packages/ipykernel_launcher.py:20: UserWarning: Update your `Conv2D` call to the Keras 2 API: `Conv2D(256, (3, 3), padding=\"valid\")`\n",
            "/usr/local/lib/python3.6/dist-packages/ipykernel_launcher.py:26: UserWarning: Update your `Conv2D` call to the Keras 2 API: `Conv2D(512, (3, 3), padding=\"valid\")`\n"
          ],
          "name": "stderr"
        },
        {
          "output_type": "stream",
          "text": [
            "WARNING:tensorflow:From /usr/local/lib/python3.6/dist-packages/keras/backend/tensorflow_backend.py:207: The name tf.global_variables is deprecated. Please use tf.compat.v1.global_variables instead.\n",
            "\n",
            "WARNING:tensorflow:From /usr/local/lib/python3.6/dist-packages/keras/backend/tensorflow_backend.py:216: The name tf.is_variable_initialized is deprecated. Please use tf.compat.v1.is_variable_initialized instead.\n",
            "\n",
            "WARNING:tensorflow:From /usr/local/lib/python3.6/dist-packages/keras/backend/tensorflow_backend.py:223: The name tf.variables_initializer is deprecated. Please use tf.compat.v1.variables_initializer instead.\n",
            "\n",
            "WARNING:tensorflow:From /usr/local/lib/python3.6/dist-packages/keras/backend/tensorflow_backend.py:2041: The name tf.nn.fused_batch_norm is deprecated. Please use tf.compat.v1.nn.fused_batch_norm instead.\n",
            "\n",
            "WARNING:tensorflow:From /usr/local/lib/python3.6/dist-packages/keras/backend/tensorflow_backend.py:148: The name tf.placeholder_with_default is deprecated. Please use tf.compat.v1.placeholder_with_default instead.\n",
            "\n",
            "WARNING:tensorflow:From /usr/local/lib/python3.6/dist-packages/keras/backend/tensorflow_backend.py:4267: The name tf.nn.max_pool is deprecated. Please use tf.nn.max_pool2d instead.\n",
            "\n",
            "WARNING:tensorflow:From /usr/local/lib/python3.6/dist-packages/keras/backend/tensorflow_backend.py:2239: The name tf.image.resize_nearest_neighbor is deprecated. Please use tf.compat.v1.image.resize_nearest_neighbor instead.\n",
            "\n"
          ],
          "name": "stdout"
        },
        {
          "output_type": "stream",
          "text": [
            "/usr/local/lib/python3.6/dist-packages/ipykernel_launcher.py:38: UserWarning: Update your `Conv2D` call to the Keras 2 API: `Conv2D(512, (3, 3), padding=\"valid\")`\n",
            "/usr/local/lib/python3.6/dist-packages/ipykernel_launcher.py:43: UserWarning: Update your `Conv2D` call to the Keras 2 API: `Conv2D(256, (3, 3), padding=\"valid\")`\n",
            "/usr/local/lib/python3.6/dist-packages/ipykernel_launcher.py:48: UserWarning: Update your `Conv2D` call to the Keras 2 API: `Conv2D(128, (3, 3), padding=\"valid\")`\n",
            "/usr/local/lib/python3.6/dist-packages/ipykernel_launcher.py:53: UserWarning: Update your `Conv2D` call to the Keras 2 API: `Conv2D(64, (3, 3), padding=\"valid\")`\n"
          ],
          "name": "stderr"
        },
        {
          "output_type": "stream",
          "text": [
            "WARNING:tensorflow:From /usr/local/lib/python3.6/dist-packages/keras/optimizers.py:793: The name tf.train.Optimizer is deprecated. Please use tf.compat.v1.train.Optimizer instead.\n",
            "\n",
            "WARNING:tensorflow:From /usr/local/lib/python3.6/dist-packages/keras/backend/tensorflow_backend.py:3576: The name tf.log is deprecated. Please use tf.math.log instead.\n",
            "\n"
          ],
          "name": "stdout"
        },
        {
          "output_type": "stream",
          "text": [
            "/usr/local/lib/python3.6/dist-packages/ipykernel_launcher.py:78: UserWarning: Update your `Conv2D` call to the Keras 2 API: `Conv2D(8, (1, 1), padding=\"valid\")`\n"
          ],
          "name": "stderr"
        }
      ]
    },
    {
      "cell_type": "code",
      "metadata": {
        "id": "-v7avQJQl596",
        "colab_type": "code",
        "outputId": "733038c3-b81d-4906-92d6-e82ccf1e82de",
        "colab": {
          "base_uri": "https://localhost:8080/",
          "height": 1000
        }
      },
      "source": [
        "segnet_basic.summary()"
      ],
      "execution_count": 19,
      "outputs": [
        {
          "output_type": "stream",
          "text": [
            "Model: \"sequential_1\"\n",
            "_________________________________________________________________\n",
            "Layer (type)                 Output Shape              Param #   \n",
            "=================================================================\n",
            "layer_1 (Layer)              (None, 227, 320, 3)       0         \n",
            "_________________________________________________________________\n",
            "zero_padding2d_1 (ZeroPaddin (None, 229, 322, 3)       0         \n",
            "_________________________________________________________________\n",
            "conv2d_1 (Conv2D)            (None, 227, 320, 64)      1792      \n",
            "_________________________________________________________________\n",
            "batch_normalization_1 (Batch (None, 227, 320, 64)      256       \n",
            "_________________________________________________________________\n",
            "activation_1 (Activation)    (None, 227, 320, 64)      0         \n",
            "_________________________________________________________________\n",
            "max_pooling2d_1 (MaxPooling2 (None, 113, 160, 64)      0         \n",
            "_________________________________________________________________\n",
            "zero_padding2d_2 (ZeroPaddin (None, 115, 162, 64)      0         \n",
            "_________________________________________________________________\n",
            "conv2d_2 (Conv2D)            (None, 113, 160, 128)     73856     \n",
            "_________________________________________________________________\n",
            "batch_normalization_2 (Batch (None, 113, 160, 128)     512       \n",
            "_________________________________________________________________\n",
            "activation_2 (Activation)    (None, 113, 160, 128)     0         \n",
            "_________________________________________________________________\n",
            "max_pooling2d_2 (MaxPooling2 (None, 56, 80, 128)       0         \n",
            "_________________________________________________________________\n",
            "zero_padding2d_3 (ZeroPaddin (None, 58, 82, 128)       0         \n",
            "_________________________________________________________________\n",
            "conv2d_3 (Conv2D)            (None, 56, 80, 256)       295168    \n",
            "_________________________________________________________________\n",
            "batch_normalization_3 (Batch (None, 56, 80, 256)       1024      \n",
            "_________________________________________________________________\n",
            "activation_3 (Activation)    (None, 56, 80, 256)       0         \n",
            "_________________________________________________________________\n",
            "max_pooling2d_3 (MaxPooling2 (None, 28, 40, 256)       0         \n",
            "_________________________________________________________________\n",
            "zero_padding2d_4 (ZeroPaddin (None, 30, 42, 256)       0         \n",
            "_________________________________________________________________\n",
            "conv2d_4 (Conv2D)            (None, 28, 40, 512)       1180160   \n",
            "_________________________________________________________________\n",
            "batch_normalization_4 (Batch (None, 28, 40, 512)       2048      \n",
            "_________________________________________________________________\n",
            "activation_4 (Activation)    (None, 28, 40, 512)       0         \n",
            "_________________________________________________________________\n",
            "zero_padding2d_5 (ZeroPaddin (None, 30, 42, 512)       0         \n",
            "_________________________________________________________________\n",
            "conv2d_5 (Conv2D)            (None, 28, 40, 512)       2359808   \n",
            "_________________________________________________________________\n",
            "batch_normalization_5 (Batch (None, 28, 40, 512)       2048      \n",
            "_________________________________________________________________\n",
            "up_sampling2d_1 (UpSampling2 (None, 56, 80, 512)       0         \n",
            "_________________________________________________________________\n",
            "zero_padding2d_6 (ZeroPaddin (None, 58, 82, 512)       0         \n",
            "_________________________________________________________________\n",
            "conv2d_6 (Conv2D)            (None, 56, 80, 256)       1179904   \n",
            "_________________________________________________________________\n",
            "batch_normalization_6 (Batch (None, 56, 80, 256)       1024      \n",
            "_________________________________________________________________\n",
            "up_sampling2d_2 (UpSampling2 (None, 112, 160, 256)     0         \n",
            "_________________________________________________________________\n",
            "zero_padding2d_7 (ZeroPaddin (None, 114, 162, 256)     0         \n",
            "_________________________________________________________________\n",
            "conv2d_7 (Conv2D)            (None, 112, 160, 128)     295040    \n",
            "_________________________________________________________________\n",
            "batch_normalization_7 (Batch (None, 112, 160, 128)     512       \n",
            "_________________________________________________________________\n",
            "up_sampling2d_3 (UpSampling2 (None, 224, 320, 128)     0         \n",
            "_________________________________________________________________\n",
            "zero_padding2d_8 (ZeroPaddin (None, 226, 322, 128)     0         \n",
            "_________________________________________________________________\n",
            "conv2d_8 (Conv2D)            (None, 224, 320, 64)      73792     \n",
            "_________________________________________________________________\n",
            "batch_normalization_8 (Batch (None, 224, 320, 64)      256       \n",
            "_________________________________________________________________\n",
            "conv2d_9 (Conv2D)            (None, 224, 320, 8)       520       \n",
            "_________________________________________________________________\n",
            "lambda_1 (Lambda)            (None, 227, 320, 8)       0         \n",
            "_________________________________________________________________\n",
            "reshape_1 (Reshape)          (None, 72640, 8)          0         \n",
            "_________________________________________________________________\n",
            "activation_5 (Activation)    (None, 72640, 8)          0         \n",
            "=================================================================\n",
            "Total params: 5,467,720\n",
            "Trainable params: 5,463,880\n",
            "Non-trainable params: 3,840\n",
            "_________________________________________________________________\n"
          ],
          "name": "stdout"
        }
      ]
    },
    {
      "cell_type": "code",
      "metadata": {
        "id": "dnr3O92iWfOt",
        "colab_type": "code",
        "outputId": "65f075d5-f47a-4732-f661-933c9527a9cc",
        "colab": {
          "base_uri": "https://localhost:8080/",
          "height": 1000
        }
      },
      "source": [
        "nb_epoch = 100\n",
        "batch_size = 16\n",
        "\n",
        "history = segnet_basic.fit(train_images, train_labels1, batch_size=batch_size,epochs=nb_epoch,verbose=1, validation_data=(val_images, val_labels1))\n",
        "#segnet_basic.save_weights('model_weight_ep100.hdf5')\n",
        "#score = autoencoder.evaluate(X_test, X_test, show_accuracy=True, verbose=0)\n",
        "#print('Test score:', score[0])\n",
        "#print('Test accuracy:', score[1])"
      ],
      "execution_count": 20,
      "outputs": [
        {
          "output_type": "stream",
          "text": [
            "WARNING:tensorflow:From /usr/local/lib/python3.6/dist-packages/tensorflow_core/python/ops/math_grad.py:1424: where (from tensorflow.python.ops.array_ops) is deprecated and will be removed in a future version.\n",
            "Instructions for updating:\n",
            "Use tf.where in 2.0, which has the same broadcast rule as np.where\n",
            "WARNING:tensorflow:From /usr/local/lib/python3.6/dist-packages/keras/backend/tensorflow_backend.py:1033: The name tf.assign_add is deprecated. Please use tf.compat.v1.assign_add instead.\n",
            "\n",
            "WARNING:tensorflow:From /usr/local/lib/python3.6/dist-packages/keras/backend/tensorflow_backend.py:1020: The name tf.assign is deprecated. Please use tf.compat.v1.assign instead.\n",
            "\n",
            "Train on 1403 samples, validate on 204 samples\n",
            "Epoch 1/100\n",
            "1403/1403 [==============================] - 40s 28ms/step - loss: 1.3201 - acc: 0.5806 - val_loss: 1.2216 - val_acc: 0.5662\n",
            "Epoch 2/100\n",
            "1403/1403 [==============================] - 31s 22ms/step - loss: 1.1064 - acc: 0.6186 - val_loss: 1.3299 - val_acc: 0.5397\n",
            "Epoch 3/100\n",
            "1403/1403 [==============================] - 31s 22ms/step - loss: 1.0458 - acc: 0.6315 - val_loss: 1.1880 - val_acc: 0.6110\n",
            "Epoch 4/100\n",
            "1403/1403 [==============================] - 31s 22ms/step - loss: 1.0203 - acc: 0.6350 - val_loss: 1.0649 - val_acc: 0.6283\n",
            "Epoch 5/100\n",
            "1403/1403 [==============================] - 31s 22ms/step - loss: 0.9913 - acc: 0.6418 - val_loss: 1.0470 - val_acc: 0.6288\n",
            "Epoch 6/100\n",
            "1403/1403 [==============================] - 31s 22ms/step - loss: 0.9819 - acc: 0.6443 - val_loss: 1.1810 - val_acc: 0.6090\n",
            "Epoch 7/100\n",
            "1403/1403 [==============================] - 31s 22ms/step - loss: 0.9674 - acc: 0.6478 - val_loss: 1.0494 - val_acc: 0.6210\n",
            "Epoch 8/100\n",
            "1403/1403 [==============================] - 31s 22ms/step - loss: 0.9601 - acc: 0.6509 - val_loss: 1.1906 - val_acc: 0.5676\n",
            "Epoch 9/100\n",
            "1403/1403 [==============================] - 31s 22ms/step - loss: 0.9552 - acc: 0.6518 - val_loss: 1.0563 - val_acc: 0.5964\n",
            "Epoch 10/100\n",
            "1403/1403 [==============================] - 31s 22ms/step - loss: 0.9503 - acc: 0.6525 - val_loss: 1.0115 - val_acc: 0.6312\n",
            "Epoch 11/100\n",
            "1403/1403 [==============================] - 31s 22ms/step - loss: 0.9494 - acc: 0.6531 - val_loss: 1.0172 - val_acc: 0.6352\n",
            "Epoch 12/100\n",
            "1403/1403 [==============================] - 31s 22ms/step - loss: 0.9429 - acc: 0.6546 - val_loss: 1.0143 - val_acc: 0.6300\n",
            "Epoch 13/100\n",
            "1403/1403 [==============================] - 31s 22ms/step - loss: 0.9401 - acc: 0.6569 - val_loss: 1.0709 - val_acc: 0.6247\n",
            "Epoch 14/100\n",
            "1403/1403 [==============================] - 31s 22ms/step - loss: 0.9327 - acc: 0.6582 - val_loss: 1.0410 - val_acc: 0.6209\n",
            "Epoch 15/100\n",
            "1403/1403 [==============================] - 31s 22ms/step - loss: 0.9319 - acc: 0.6585 - val_loss: 0.9958 - val_acc: 0.6390\n",
            "Epoch 16/100\n",
            "1403/1403 [==============================] - 31s 22ms/step - loss: 0.9306 - acc: 0.6581 - val_loss: 1.0247 - val_acc: 0.6221\n",
            "Epoch 17/100\n",
            "1403/1403 [==============================] - 31s 22ms/step - loss: 0.9289 - acc: 0.6584 - val_loss: 0.9922 - val_acc: 0.6407\n",
            "Epoch 18/100\n",
            "1403/1403 [==============================] - 31s 22ms/step - loss: 0.9218 - acc: 0.6608 - val_loss: 1.0098 - val_acc: 0.6297\n",
            "Epoch 19/100\n",
            "1403/1403 [==============================] - 31s 22ms/step - loss: 0.9181 - acc: 0.6630 - val_loss: 0.9766 - val_acc: 0.6394\n",
            "Epoch 20/100\n",
            "1403/1403 [==============================] - 31s 22ms/step - loss: 0.9193 - acc: 0.6625 - val_loss: 0.9789 - val_acc: 0.6412\n",
            "Epoch 21/100\n",
            "1403/1403 [==============================] - 31s 22ms/step - loss: 0.9172 - acc: 0.6625 - val_loss: 0.9834 - val_acc: 0.6386\n",
            "Epoch 22/100\n",
            "1403/1403 [==============================] - 31s 22ms/step - loss: 0.9161 - acc: 0.6626 - val_loss: 1.0520 - val_acc: 0.6303\n",
            "Epoch 23/100\n",
            "1403/1403 [==============================] - 31s 22ms/step - loss: 0.9109 - acc: 0.6642 - val_loss: 0.9911 - val_acc: 0.6381\n",
            "Epoch 24/100\n",
            "1403/1403 [==============================] - 31s 22ms/step - loss: 0.9082 - acc: 0.6664 - val_loss: 1.0061 - val_acc: 0.6348\n",
            "Epoch 25/100\n",
            "1403/1403 [==============================] - 31s 22ms/step - loss: 0.9073 - acc: 0.6652 - val_loss: 1.0141 - val_acc: 0.6316\n",
            "Epoch 26/100\n",
            "1403/1403 [==============================] - 31s 22ms/step - loss: 0.9071 - acc: 0.6654 - val_loss: 0.9993 - val_acc: 0.6384\n",
            "Epoch 27/100\n",
            "1403/1403 [==============================] - 31s 22ms/step - loss: 0.9025 - acc: 0.6671 - val_loss: 0.9813 - val_acc: 0.6423\n",
            "Epoch 28/100\n",
            "1403/1403 [==============================] - 31s 22ms/step - loss: 0.8993 - acc: 0.6688 - val_loss: 0.9926 - val_acc: 0.6420\n",
            "Epoch 29/100\n",
            "1403/1403 [==============================] - 31s 22ms/step - loss: 0.8942 - acc: 0.6687 - val_loss: 1.0450 - val_acc: 0.5953\n",
            "Epoch 30/100\n",
            "1403/1403 [==============================] - 31s 22ms/step - loss: 0.8957 - acc: 0.6691 - val_loss: 1.0082 - val_acc: 0.6275\n",
            "Epoch 31/100\n",
            "1403/1403 [==============================] - 31s 22ms/step - loss: 0.8942 - acc: 0.6707 - val_loss: 0.9871 - val_acc: 0.6419\n",
            "Epoch 32/100\n",
            "1403/1403 [==============================] - 31s 22ms/step - loss: 0.8915 - acc: 0.6709 - val_loss: 0.9774 - val_acc: 0.6397\n",
            "Epoch 33/100\n",
            "1403/1403 [==============================] - 31s 22ms/step - loss: 0.8915 - acc: 0.6711 - val_loss: 1.0097 - val_acc: 0.6299\n",
            "Epoch 34/100\n",
            "1403/1403 [==============================] - 31s 22ms/step - loss: 0.8859 - acc: 0.6725 - val_loss: 1.0325 - val_acc: 0.6110\n",
            "Epoch 35/100\n",
            "1403/1403 [==============================] - 31s 22ms/step - loss: 0.8859 - acc: 0.6724 - val_loss: 0.9893 - val_acc: 0.6368\n",
            "Epoch 36/100\n",
            "1403/1403 [==============================] - 31s 22ms/step - loss: 0.8810 - acc: 0.6739 - val_loss: 0.9887 - val_acc: 0.6394\n",
            "Epoch 37/100\n",
            "1403/1403 [==============================] - 31s 22ms/step - loss: 0.8815 - acc: 0.6730 - val_loss: 1.0240 - val_acc: 0.6339\n",
            "Epoch 38/100\n",
            "1403/1403 [==============================] - 31s 22ms/step - loss: 0.8775 - acc: 0.6750 - val_loss: 1.0085 - val_acc: 0.6354\n",
            "Epoch 39/100\n",
            "1403/1403 [==============================] - 31s 22ms/step - loss: 0.8753 - acc: 0.6753 - val_loss: 1.0221 - val_acc: 0.6250\n",
            "Epoch 40/100\n",
            "1403/1403 [==============================] - 31s 22ms/step - loss: 0.8754 - acc: 0.6763 - val_loss: 1.0010 - val_acc: 0.6279\n",
            "Epoch 41/100\n",
            "1403/1403 [==============================] - 31s 22ms/step - loss: 0.8743 - acc: 0.6764 - val_loss: 1.0973 - val_acc: 0.6247\n",
            "Epoch 42/100\n",
            "1403/1403 [==============================] - 31s 22ms/step - loss: 0.8711 - acc: 0.6779 - val_loss: 1.0752 - val_acc: 0.5974\n",
            "Epoch 43/100\n",
            "1403/1403 [==============================] - 31s 22ms/step - loss: 0.8667 - acc: 0.6783 - val_loss: 0.9731 - val_acc: 0.6375\n",
            "Epoch 44/100\n",
            "1403/1403 [==============================] - 31s 22ms/step - loss: 0.8638 - acc: 0.6794 - val_loss: 1.0278 - val_acc: 0.6323\n",
            "Epoch 45/100\n",
            "1403/1403 [==============================] - 31s 22ms/step - loss: 0.8621 - acc: 0.6809 - val_loss: 1.0902 - val_acc: 0.6101\n",
            "Epoch 46/100\n",
            "1403/1403 [==============================] - 31s 22ms/step - loss: 0.8577 - acc: 0.6817 - val_loss: 0.9886 - val_acc: 0.6342\n",
            "Epoch 47/100\n",
            "1403/1403 [==============================] - 31s 22ms/step - loss: 0.8563 - acc: 0.6820 - val_loss: 1.0338 - val_acc: 0.6205\n",
            "Epoch 48/100\n",
            "1403/1403 [==============================] - 31s 22ms/step - loss: 0.8526 - acc: 0.6843 - val_loss: 1.0242 - val_acc: 0.6221\n",
            "Epoch 49/100\n",
            "1403/1403 [==============================] - 31s 22ms/step - loss: 0.8507 - acc: 0.6843 - val_loss: 1.1194 - val_acc: 0.6092\n",
            "Epoch 50/100\n",
            "1403/1403 [==============================] - 31s 22ms/step - loss: 0.8500 - acc: 0.6843 - val_loss: 1.0227 - val_acc: 0.6343\n",
            "Epoch 51/100\n",
            "1403/1403 [==============================] - 31s 22ms/step - loss: 0.8475 - acc: 0.6852 - val_loss: 1.0456 - val_acc: 0.6343\n",
            "Epoch 52/100\n",
            "1403/1403 [==============================] - 31s 22ms/step - loss: 0.8447 - acc: 0.6860 - val_loss: 1.0403 - val_acc: 0.6327\n",
            "Epoch 53/100\n",
            "1403/1403 [==============================] - 31s 22ms/step - loss: 0.8397 - acc: 0.6875 - val_loss: 1.1605 - val_acc: 0.5508\n",
            "Epoch 54/100\n",
            "1403/1403 [==============================] - 31s 22ms/step - loss: 0.8367 - acc: 0.6896 - val_loss: 1.1549 - val_acc: 0.5662\n",
            "Epoch 55/100\n",
            "1403/1403 [==============================] - 31s 22ms/step - loss: 0.8357 - acc: 0.6895 - val_loss: 1.0908 - val_acc: 0.6133\n",
            "Epoch 56/100\n",
            "1403/1403 [==============================] - 31s 22ms/step - loss: 0.8307 - acc: 0.6918 - val_loss: 1.3740 - val_acc: 0.5609\n",
            "Epoch 57/100\n",
            "1403/1403 [==============================] - 31s 22ms/step - loss: 0.8284 - acc: 0.6915 - val_loss: 1.0549 - val_acc: 0.6293\n",
            "Epoch 58/100\n",
            "1403/1403 [==============================] - 31s 22ms/step - loss: 0.8232 - acc: 0.6950 - val_loss: 1.1267 - val_acc: 0.5887\n",
            "Epoch 59/100\n",
            "1403/1403 [==============================] - 31s 22ms/step - loss: 0.8221 - acc: 0.6942 - val_loss: 1.0516 - val_acc: 0.6378\n",
            "Epoch 60/100\n",
            "1403/1403 [==============================] - 31s 22ms/step - loss: 0.8160 - acc: 0.6966 - val_loss: 1.1892 - val_acc: 0.5736\n",
            "Epoch 61/100\n",
            "1403/1403 [==============================] - 31s 22ms/step - loss: 0.8182 - acc: 0.6967 - val_loss: 1.2440 - val_acc: 0.5969\n",
            "Epoch 62/100\n",
            "1403/1403 [==============================] - 31s 22ms/step - loss: 0.8096 - acc: 0.7000 - val_loss: 1.1289 - val_acc: 0.6169\n",
            "Epoch 63/100\n",
            "1403/1403 [==============================] - 31s 22ms/step - loss: 0.8034 - acc: 0.7016 - val_loss: 1.0942 - val_acc: 0.6063\n",
            "Epoch 64/100\n",
            "1403/1403 [==============================] - 31s 22ms/step - loss: 0.8021 - acc: 0.7020 - val_loss: 1.0439 - val_acc: 0.6265\n",
            "Epoch 65/100\n",
            "1403/1403 [==============================] - 31s 22ms/step - loss: 0.7945 - acc: 0.7053 - val_loss: 1.2701 - val_acc: 0.5620\n",
            "Epoch 66/100\n",
            "1403/1403 [==============================] - 31s 22ms/step - loss: 0.7976 - acc: 0.7042 - val_loss: 1.2605 - val_acc: 0.5564\n",
            "Epoch 67/100\n",
            "1403/1403 [==============================] - 31s 22ms/step - loss: 0.7843 - acc: 0.7092 - val_loss: 1.2217 - val_acc: 0.6070\n",
            "Epoch 68/100\n",
            "1403/1403 [==============================] - 31s 22ms/step - loss: 0.7847 - acc: 0.7086 - val_loss: 1.3136 - val_acc: 0.5722\n",
            "Epoch 69/100\n",
            "1403/1403 [==============================] - 31s 22ms/step - loss: 0.7780 - acc: 0.7108 - val_loss: 1.2010 - val_acc: 0.5631\n",
            "Epoch 70/100\n",
            "1403/1403 [==============================] - 31s 22ms/step - loss: 0.7755 - acc: 0.7119 - val_loss: 1.1926 - val_acc: 0.6149\n",
            "Epoch 71/100\n",
            "1403/1403 [==============================] - 31s 22ms/step - loss: 0.7670 - acc: 0.7160 - val_loss: 1.6143 - val_acc: 0.5430\n",
            "Epoch 72/100\n",
            "1403/1403 [==============================] - 31s 22ms/step - loss: 0.7629 - acc: 0.7174 - val_loss: 1.3898 - val_acc: 0.5231\n",
            "Epoch 73/100\n",
            "1403/1403 [==============================] - 31s 22ms/step - loss: 0.7598 - acc: 0.7195 - val_loss: 1.1650 - val_acc: 0.6068\n",
            "Epoch 74/100\n",
            "1403/1403 [==============================] - 31s 22ms/step - loss: 0.7534 - acc: 0.7225 - val_loss: 1.2076 - val_acc: 0.5803\n",
            "Epoch 75/100\n",
            "1403/1403 [==============================] - 31s 22ms/step - loss: 0.7461 - acc: 0.7242 - val_loss: 1.2625 - val_acc: 0.5707\n",
            "Epoch 76/100\n",
            "1403/1403 [==============================] - 31s 22ms/step - loss: 0.7385 - acc: 0.7265 - val_loss: 1.1145 - val_acc: 0.6238\n",
            "Epoch 77/100\n",
            "1403/1403 [==============================] - 31s 22ms/step - loss: 0.7331 - acc: 0.7301 - val_loss: 1.2568 - val_acc: 0.5392\n",
            "Epoch 78/100\n",
            "1403/1403 [==============================] - 31s 22ms/step - loss: 0.7279 - acc: 0.7311 - val_loss: 2.1487 - val_acc: 0.4814\n",
            "Epoch 79/100\n",
            "1403/1403 [==============================] - 31s 22ms/step - loss: 0.7256 - acc: 0.7325 - val_loss: 1.3068 - val_acc: 0.6207\n",
            "Epoch 80/100\n",
            "1403/1403 [==============================] - 31s 22ms/step - loss: 0.7176 - acc: 0.7349 - val_loss: 1.2816 - val_acc: 0.5881\n",
            "Epoch 81/100\n",
            "1403/1403 [==============================] - 31s 22ms/step - loss: 0.7102 - acc: 0.7394 - val_loss: 1.3514 - val_acc: 0.5719\n",
            "Epoch 82/100\n",
            "1403/1403 [==============================] - 31s 22ms/step - loss: 0.7003 - acc: 0.7425 - val_loss: 1.3700 - val_acc: 0.5637\n",
            "Epoch 83/100\n",
            "1403/1403 [==============================] - 31s 22ms/step - loss: 0.6948 - acc: 0.7450 - val_loss: 1.4450 - val_acc: 0.5638\n",
            "Epoch 84/100\n",
            "1403/1403 [==============================] - 31s 22ms/step - loss: 0.6825 - acc: 0.7492 - val_loss: 1.9831 - val_acc: 0.5159\n",
            "Epoch 85/100\n",
            "1403/1403 [==============================] - 31s 22ms/step - loss: 0.6792 - acc: 0.7508 - val_loss: 1.8682 - val_acc: 0.5261\n",
            "Epoch 86/100\n",
            "1403/1403 [==============================] - 31s 22ms/step - loss: 0.6786 - acc: 0.7512 - val_loss: 1.5220 - val_acc: 0.5715\n",
            "Epoch 87/100\n",
            "1403/1403 [==============================] - 31s 22ms/step - loss: 0.6770 - acc: 0.7529 - val_loss: 1.2186 - val_acc: 0.6021\n",
            "Epoch 88/100\n",
            "1403/1403 [==============================] - 31s 22ms/step - loss: 0.6554 - acc: 0.7604 - val_loss: 3.7382 - val_acc: 0.3858\n",
            "Epoch 89/100\n",
            "1403/1403 [==============================] - 31s 22ms/step - loss: 0.6507 - acc: 0.7635 - val_loss: 1.2938 - val_acc: 0.6038\n",
            "Epoch 90/100\n",
            "1403/1403 [==============================] - 31s 22ms/step - loss: 0.6400 - acc: 0.7662 - val_loss: 1.4209 - val_acc: 0.5350\n",
            "Epoch 91/100\n",
            "1403/1403 [==============================] - 31s 22ms/step - loss: 0.6406 - acc: 0.7664 - val_loss: 1.4811 - val_acc: 0.5642\n",
            "Epoch 92/100\n",
            "1403/1403 [==============================] - 31s 22ms/step - loss: 0.6228 - acc: 0.7735 - val_loss: 2.2916 - val_acc: 0.3886\n",
            "Epoch 93/100\n",
            "1403/1403 [==============================] - 31s 22ms/step - loss: 0.6233 - acc: 0.7735 - val_loss: 1.5408 - val_acc: 0.5081\n",
            "Epoch 94/100\n",
            "1403/1403 [==============================] - 31s 22ms/step - loss: 0.6087 - acc: 0.7795 - val_loss: 1.6978 - val_acc: 0.4810\n",
            "Epoch 95/100\n",
            "1403/1403 [==============================] - 31s 22ms/step - loss: 0.6049 - acc: 0.7815 - val_loss: 1.9149 - val_acc: 0.5542\n",
            "Epoch 96/100\n",
            "1403/1403 [==============================] - 31s 22ms/step - loss: 0.5931 - acc: 0.7865 - val_loss: 1.6756 - val_acc: 0.5438\n",
            "Epoch 97/100\n",
            "1403/1403 [==============================] - 31s 22ms/step - loss: 0.5920 - acc: 0.7855 - val_loss: 1.4066 - val_acc: 0.5710\n",
            "Epoch 98/100\n",
            "1403/1403 [==============================] - 31s 22ms/step - loss: 0.5810 - acc: 0.7905 - val_loss: 1.8924 - val_acc: 0.5060\n",
            "Epoch 99/100\n",
            "1403/1403 [==============================] - 31s 22ms/step - loss: 0.5741 - acc: 0.7943 - val_loss: 2.6954 - val_acc: 0.4847\n",
            "Epoch 100/100\n",
            "1403/1403 [==============================] - 31s 22ms/step - loss: 0.5705 - acc: 0.7955 - val_loss: 1.6716 - val_acc: 0.5641\n"
          ],
          "name": "stdout"
        }
      ]
    },
    {
      "cell_type": "code",
      "metadata": {
        "id": "FngBzWT1Bnwy",
        "colab_type": "code",
        "colab": {}
      },
      "source": [
        "test_path= paths.list_images(\"/content/IDD/idd20k_lite/leftImg8bit/test\")"
      ],
      "execution_count": 0,
      "outputs": []
    },
    {
      "cell_type": "code",
      "metadata": {
        "id": "w8fP3925Cfbw",
        "colab_type": "code",
        "colab": {}
      },
      "source": [
        "test_images_final = []\n",
        "test_images_name = []\n",
        "import os\n",
        "for imagePath in test_path:\n",
        "  image=cv2.imread(imagePath)\n",
        "  #print(imagePath)\n",
        "  make = imagePath.split(\"/\")[-1]\n",
        "  filename = make[:make.rfind(\"_\")]\n",
        "  #print(filename)\n",
        "  make1=imagePath.split(\"/\")[-2]  \n",
        "  directory=\"output/\"+ make1\n",
        "  if not os.path.exists(directory):\n",
        "    os.makedirs(directory)\n",
        "  image_name = \"output/\"+ make1+\"/\"+filename+\"_label.jpg\"\n",
        "  test_images_final.append(image)\n",
        "  test_images_name.append(image_name)\n",
        "\n",
        "\n",
        "  #print(make)\n",
        "  #print(make1)"
      ],
      "execution_count": 0,
      "outputs": []
    },
    {
      "cell_type": "code",
      "metadata": {
        "id": "w-QZyiuR3TSk",
        "colab_type": "code",
        "colab": {}
      },
      "source": [
        "test_images_final = np.array(test_images_final)"
      ],
      "execution_count": 0,
      "outputs": []
    },
    {
      "cell_type": "code",
      "metadata": {
        "id": "eFkgnF48bcG4",
        "colab_type": "code",
        "colab": {}
      },
      "source": [
        "output = segnet_basic.predict_proba(test_images_final, verbose=0)\n",
        "output = output.reshape(output.shape[0],227,320,8)"
      ],
      "execution_count": 0,
      "outputs": []
    },
    {
      "cell_type": "code",
      "metadata": {
        "id": "wULe_ZHya0ng",
        "colab_type": "code",
        "outputId": "9c8b2a00-62c7-465c-8a2c-56e13464a69f",
        "colab": {
          "base_uri": "https://localhost:8080/",
          "height": 51
        }
      },
      "source": [
        "print(output.shape)\n",
        "print(output.shape[0])"
      ],
      "execution_count": 43,
      "outputs": [
        {
          "output_type": "stream",
          "text": [
            "(404, 227, 320, 8)\n",
            "404\n"
          ],
          "name": "stdout"
        }
      ]
    },
    {
      "cell_type": "code",
      "metadata": {
        "id": "liNxkKN_3pZ7",
        "colab_type": "code",
        "colab": {}
      },
      "source": [
        "for i in range(output.shape[0]):\n",
        "  #print(i)\n",
        "  sample_pred = np.argmax(output[i],axis=-1)\n",
        "  #print(sample_pred.shape)\n",
        "  #image_name = \"output/\" + str(image_counter) + \".png\"\n",
        "  cv2.imwrite(test_images_name[i],sample_pred)  "
      ],
      "execution_count": 0,
      "outputs": []
    },
    {
      "cell_type": "code",
      "metadata": {
        "id": "AG2zIh2a5ixr",
        "colab_type": "code",
        "colab": {
          "base_uri": "https://localhost:8080/",
          "height": 1000
        },
        "outputId": "2e46078e-e9e9-4c28-9460-6734bf03ce3e"
      },
      "source": [
        "!zip -r output.zip output"
      ],
      "execution_count": 36,
      "outputs": [
        {
          "output_type": "stream",
          "text": [
            "  adding: output/ (stored 0%)\n",
            "  adding: output/510/ (stored 0%)\n",
            "  adding: output/510/frame45499_label.jpg (deflated 18%)\n",
            "  adding: output/510/frame0719_label.jpg (deflated 20%)\n",
            "  adding: output/510/frame36185_label.jpg (deflated 12%)\n",
            "  adding: output/510/frame6609_label.jpg (deflated 16%)\n",
            "  adding: output/103/ (stored 0%)\n",
            "  adding: output/103/881873_label.jpg (deflated 22%)\n",
            "  adding: output/103/416301_label.jpg (deflated 22%)\n",
            "  adding: output/103/331011_label.jpg (deflated 20%)\n",
            "  adding: output/103/981216_label.jpg (deflated 20%)\n",
            "  adding: output/103/206393_label.jpg (deflated 18%)\n",
            "  adding: output/103/478626_label.jpg (deflated 12%)\n",
            "  adding: output/103/665169_label.jpg (deflated 15%)\n",
            "  adding: output/232/ (stored 0%)\n",
            "  adding: output/232/frame3532_label.jpg (deflated 20%)\n",
            "  adding: output/232/frame43678_label.jpg (deflated 22%)\n",
            "  adding: output/232/frame12412_label.jpg (deflated 23%)\n",
            "  adding: output/232/frame16220_label.jpg (deflated 18%)\n",
            "  adding: output/362/ (stored 0%)\n",
            "  adding: output/362/frame25670_label.jpg (deflated 16%)\n",
            "  adding: output/362/frame26134_label.jpg (deflated 19%)\n",
            "  adding: output/362/frame17516_label.jpg (deflated 26%)\n",
            "  adding: output/362/frame0508_label.jpg (deflated 17%)\n",
            "  adding: output/362/frame5245_label.jpg (deflated 19%)\n",
            "  adding: output/362/frame16370_label.jpg (deflated 18%)\n",
            "  adding: output/362/frame10425_label.jpg (deflated 21%)\n",
            "  adding: output/362/frame3655_label.jpg (deflated 21%)\n",
            "  adding: output/253/ (stored 0%)\n",
            "  adding: output/253/frame2771_label.jpg (deflated 22%)\n",
            "  adding: output/253/frame4961_label.jpg (deflated 29%)\n",
            "  adding: output/323/ (stored 0%)\n",
            "  adding: output/323/frame1210_label.jpg (deflated 19%)\n",
            "  adding: output/509/ (stored 0%)\n",
            "  adding: output/509/frame1151_label.jpg (deflated 21%)\n",
            "  adding: output/509/frame0464_label.jpg (deflated 21%)\n",
            "  adding: output/210/ (stored 0%)\n",
            "  adding: output/210/frame6037_label.jpg (deflated 15%)\n",
            "  adding: output/210/frame1697_label.jpg (deflated 20%)\n",
            "  adding: output/304/ (stored 0%)\n",
            "  adding: output/304/frame0864_label.jpg (deflated 18%)\n",
            "  adding: output/546/ (stored 0%)\n",
            "  adding: output/546/0001406_label.jpg (deflated 18%)\n",
            "  adding: output/546/0016470_label.jpg (deflated 21%)\n",
            "  adding: output/546/0023390_label.jpg (deflated 18%)\n",
            "  adding: output/546/0024533_label.jpg (deflated 11%)\n",
            "  adding: output/546/0005579_label.jpg (deflated 17%)\n",
            "  adding: output/546/0000925_label.jpg (deflated 16%)\n",
            "  adding: output/546/0021424_label.jpg (deflated 16%)\n",
            "  adding: output/546/0008931_label.jpg (deflated 21%)\n",
            "  adding: output/546/0023108_label.jpg (deflated 12%)\n",
            "  adding: output/546/0014022_label.jpg (deflated 20%)\n",
            "  adding: output/572/ (stored 0%)\n",
            "  adding: output/572/frame87967_label.jpg (deflated 21%)\n",
            "  adding: output/572/frame107656_label.jpg (deflated 18%)\n",
            "  adding: output/572/frame94594_label.jpg (deflated 13%)\n",
            "  adding: output/572/frame47030_label.jpg (deflated 11%)\n",
            "  adding: output/572/frame87358_label.jpg (deflated 20%)\n",
            "  adding: output/572/frame76567_label.jpg (deflated 23%)\n",
            "  adding: output/572/frame96503_label.jpg (deflated 18%)\n",
            "  adding: output/572/frame41858_label.jpg (deflated 11%)\n",
            "  adding: output/500/ (stored 0%)\n",
            "  adding: output/500/frame0227_label.jpg (deflated 22%)\n",
            "  adding: output/500/frame2129_label.jpg (deflated 19%)\n",
            "  adding: output/549/ (stored 0%)\n",
            "  adding: output/549/frame1009_label.jpg (deflated 21%)\n",
            "  adding: output/549/frame10262_label.jpg (deflated 15%)\n",
            "  adding: output/549/frame21335_label.jpg (deflated 11%)\n",
            "  adding: output/549/frame1929_label.jpg (deflated 16%)\n",
            "  adding: output/549/frame21526_label.jpg (deflated 15%)\n",
            "  adding: output/55/ (stored 0%)\n",
            "  adding: output/55/263138_label.jpg (deflated 15%)\n",
            "  adding: output/55/146301_label.jpg (deflated 10%)\n",
            "  adding: output/55/689645_label.jpg (deflated 14%)\n",
            "  adding: output/55/149395_label.jpg (deflated 12%)\n",
            "  adding: output/55/118122_label.jpg (deflated 11%)\n",
            "  adding: output/99/ (stored 0%)\n",
            "  adding: output/99/007976_label.jpg (deflated 18%)\n",
            "  adding: output/99/027100_label.jpg (deflated 26%)\n",
            "  adding: output/99/000300_label.jpg (deflated 17%)\n",
            "  adding: output/99/016525_label.jpg (deflated 16%)\n",
            "  adding: output/99/004376_label.jpg (deflated 19%)\n",
            "  adding: output/99/023200_label.jpg (deflated 17%)\n",
            "  adding: output/99/000998_label.jpg (deflated 18%)\n",
            "  adding: output/408/ (stored 0%)\n",
            "  adding: output/408/0008511_label.jpg (deflated 21%)\n",
            "  adding: output/408/0008974_label.jpg (deflated 19%)\n",
            "  adding: output/408/0012143_label.jpg (deflated 16%)\n",
            "  adding: output/408/0010550_label.jpg (deflated 14%)\n",
            "  adding: output/408/0002221_label.jpg (deflated 19%)\n",
            "  adding: output/408/0009871_label.jpg (deflated 20%)\n",
            "  adding: output/408/0011306_label.jpg (deflated 20%)\n",
            "  adding: output/332/ (stored 0%)\n",
            "  adding: output/332/frame3419_label.jpg (deflated 17%)\n",
            "  adding: output/97/ (stored 0%)\n",
            "  adding: output/97/456933_label.jpg (deflated 31%)\n",
            "  adding: output/97/066445_label.jpg (deflated 22%)\n",
            "  adding: output/97/321568_label.jpg (deflated 30%)\n",
            "  adding: output/97/300873_label.jpg (deflated 27%)\n",
            "  adding: output/566/ (stored 0%)\n",
            "  adding: output/566/frame0749_label.jpg (deflated 21%)\n",
            "  adding: output/566/frame2399_label.jpg (deflated 21%)\n",
            "  adding: output/4/ (stored 0%)\n",
            "  adding: output/4/885911_label.jpg (deflated 20%)\n",
            "  adding: output/4/803513_label.jpg (deflated 14%)\n",
            "  adding: output/4/262322_label.jpg (deflated 13%)\n",
            "  adding: output/4/561373_label.jpg (deflated 13%)\n",
            "  adding: output/4/348731_label.jpg (deflated 24%)\n",
            "  adding: output/4/428977_label.jpg (deflated 14%)\n",
            "  adding: output/281/ (stored 0%)\n",
            "  adding: output/281/frame1396_label.jpg (deflated 24%)\n",
            "  adding: output/281/frame2194_label.jpg (deflated 19%)\n",
            "  adding: output/405/ (stored 0%)\n",
            "  adding: output/405/0007533_label.jpg (deflated 19%)\n",
            "  adding: output/405/0013582_label.jpg (deflated 18%)\n",
            "  adding: output/405/0014128_label.jpg (deflated 15%)\n",
            "  adding: output/405/0017986_label.jpg (deflated 11%)\n",
            "  adding: output/405/0012668_label.jpg (deflated 17%)\n",
            "  adding: output/405/0012318_label.jpg (deflated 19%)\n",
            "  adding: output/405/0009882_label.jpg (deflated 17%)\n",
            "  adding: output/405/0010871_label.jpg (deflated 20%)\n",
            "  adding: output/405/0008598_label.jpg (deflated 15%)\n",
            "  adding: output/405/0014588_label.jpg (deflated 19%)\n",
            "  adding: output/552/ (stored 0%)\n",
            "  adding: output/552/frame0659_label.jpg (deflated 19%)\n",
            "  adding: output/553/ (stored 0%)\n",
            "  adding: output/553/frame2498_label.jpg (deflated 28%)\n",
            "  adding: output/553/frame8315_label.jpg (deflated 35%)\n",
            "  adding: output/13/ (stored 0%)\n",
            "  adding: output/13/561117_label.jpg (deflated 17%)\n",
            "  adding: output/13/206177_label.jpg (deflated 28%)\n",
            "  adding: output/13/120063_label.jpg (deflated 22%)\n",
            "  adding: output/13/857281_label.jpg (deflated 16%)\n",
            "  adding: output/13/850673_label.jpg (deflated 29%)\n",
            "  adding: output/13/613309_label.jpg (deflated 24%)\n",
            "  adding: output/13/070462_label.jpg (deflated 27%)\n",
            "  adding: output/13/085334_label.jpg (deflated 27%)\n",
            "  adding: output/13/116977_label.jpg (deflated 31%)\n",
            "  adding: output/13/141001_label.jpg (deflated 25%)\n",
            "  adding: output/13/083822_label.jpg (deflated 30%)\n",
            "  adding: output/13/871581_label.jpg (deflated 26%)\n",
            "  adding: output/13/814782_label.jpg (deflated 22%)\n",
            "  adding: output/13/213063_label.jpg (deflated 24%)\n",
            "  adding: output/13/326186_label.jpg (deflated 25%)\n",
            "  adding: output/13/502633_label.jpg (deflated 22%)\n",
            "  adding: output/13/548645_label.jpg (deflated 21%)\n",
            "  adding: output/13/112959_label.jpg (deflated 19%)\n",
            "  adding: output/576/ (stored 0%)\n",
            "  adding: output/576/0000925_label.jpg (deflated 10%)\n",
            "  adding: output/50/ (stored 0%)\n",
            "  adding: output/50/825471_label.jpg (deflated 23%)\n",
            "  adding: output/50/000257_label.jpg (deflated 19%)\n",
            "  adding: output/50/285685_label.jpg (deflated 16%)\n",
            "  adding: output/50/811992_label.jpg (deflated 16%)\n",
            "  adding: output/559/ (stored 0%)\n",
            "  adding: output/559/0010526_label.jpg (deflated 23%)\n",
            "  adding: output/565/ (stored 0%)\n",
            "  adding: output/565/frame0359_label.jpg (deflated 18%)\n",
            "  adding: output/111/ (stored 0%)\n",
            "  adding: output/111/000502_label.jpg (deflated 18%)\n",
            "  adding: output/384/ (stored 0%)\n",
            "  adding: output/384/frame1559_label.jpg (deflated 27%)\n",
            "  adding: output/440/ (stored 0%)\n",
            "  adding: output/440/frame7289_label.jpg (deflated 28%)\n",
            "  adding: output/120/ (stored 0%)\n",
            "  adding: output/120/785080_label.jpg (deflated 24%)\n",
            "  adding: output/120/773243_label.jpg (deflated 21%)\n",
            "  adding: output/120/176753_label.jpg (deflated 18%)\n",
            "  adding: output/120/176692_label.jpg (deflated 21%)\n",
            "  adding: output/120/996846_label.jpg (deflated 20%)\n",
            "  adding: output/120/181298_label.jpg (deflated 22%)\n",
            "  adding: output/120/963642_label.jpg (deflated 18%)\n",
            "  adding: output/120/773732_label.jpg (deflated 27%)\n",
            "  adding: output/120/776840_label.jpg (deflated 29%)\n",
            "  adding: output/297/ (stored 0%)\n",
            "  adding: output/297/frame13499_label.jpg (deflated 17%)\n",
            "  adding: output/297/frame27408_label.jpg (deflated 19%)\n",
            "  adding: output/297/frame10135_label.jpg (deflated 18%)\n",
            "  adding: output/297/frame21680_label.jpg (deflated 14%)\n",
            "  adding: output/297/frame11953_label.jpg (deflated 18%)\n",
            "  adding: output/297/frame13680_label.jpg (deflated 20%)\n",
            "  adding: output/161/ (stored 0%)\n",
            "  adding: output/161/000687_label.jpg (deflated 26%)\n",
            "  adding: output/161/000143_label.jpg (deflated 25%)\n",
            "  adding: output/22/ (stored 0%)\n",
            "  adding: output/22/996543_label.jpg (deflated 18%)\n",
            "  adding: output/22/128774_label.jpg (deflated 19%)\n",
            "  adding: output/22/870365_label.jpg (deflated 19%)\n",
            "  adding: output/22/135603_label.jpg (deflated 20%)\n",
            "  adding: output/22/330588_label.jpg (deflated 18%)\n",
            "  adding: output/22/005208_label.jpg (deflated 22%)\n",
            "  adding: output/22/133981_label.jpg (deflated 21%)\n",
            "  adding: output/105/ (stored 0%)\n",
            "  adding: output/105/017939_label.jpg (deflated 15%)\n",
            "  adding: output/105/013276_label.jpg (deflated 18%)\n",
            "  adding: output/300/ (stored 0%)\n",
            "  adding: output/300/frame3051_label.jpg (deflated 25%)\n",
            "  adding: output/300/frame5661_label.jpg (deflated 30%)\n",
            "  adding: output/463/ (stored 0%)\n",
            "  adding: output/463/0001861_label.jpg (deflated 19%)\n",
            "  adding: output/463/0004779_label.jpg (deflated 18%)\n",
            "  adding: output/165/ (stored 0%)\n",
            "  adding: output/165/628302_label.jpg (deflated 25%)\n",
            "  adding: output/165/555079_label.jpg (deflated 17%)\n",
            "  adding: output/165/663015_label.jpg (deflated 15%)\n",
            "  adding: output/58/ (stored 0%)\n",
            "  adding: output/58/628577_label.jpg (deflated 21%)\n",
            "  adding: output/58/217129_label.jpg (deflated 24%)\n",
            "  adding: output/58/626612_label.jpg (deflated 18%)\n",
            "  adding: output/58/032828_label.jpg (deflated 12%)\n",
            "  adding: output/485/ (stored 0%)\n",
            "  adding: output/485/frame14262_label.jpg (deflated 17%)\n",
            "  adding: output/485/frame46917_label.jpg (deflated 13%)\n",
            "  adding: output/54/ (stored 0%)\n",
            "  adding: output/54/383874_label.jpg (deflated 18%)\n",
            "  adding: output/427/ (stored 0%)\n",
            "  adding: output/427/frame23885_label.jpg (deflated 16%)\n",
            "  adding: output/427/frame38867_label.jpg (deflated 18%)\n",
            "  adding: output/427/frame45003_label.jpg (deflated 21%)\n",
            "  adding: output/427/frame54249_label.jpg (deflated 21%)\n",
            "  adding: output/545/ (stored 0%)\n",
            "  adding: output/545/frame2108_label.jpg (deflated 20%)\n",
            "  adding: output/545/frame9833_label.jpg (deflated 19%)\n",
            "  adding: output/545/frame3783_label.jpg (deflated 14%)\n",
            "  adding: output/545/frame4517_label.jpg (deflated 18%)\n",
            "  adding: output/545/frame0949_label.jpg (deflated 20%)\n",
            "  adding: output/545/frame12794_label.jpg (deflated 11%)\n",
            "  adding: output/545/frame12158_label.jpg (deflated 15%)\n",
            "  adding: output/35/ (stored 0%)\n",
            "  adding: output/35/674045_label.jpg (deflated 28%)\n",
            "  adding: output/35/597378_label.jpg (deflated 20%)\n",
            "  adding: output/35/604204_label.jpg (deflated 20%)\n",
            "  adding: output/35/495106_label.jpg (deflated 28%)\n",
            "  adding: output/35/493025_label.jpg (deflated 19%)\n",
            "  adding: output/35/213995_label.jpg (deflated 21%)\n",
            "  adding: output/35/105697_label.jpg (deflated 21%)\n",
            "  adding: output/335/ (stored 0%)\n",
            "  adding: output/335/frame2849_label.jpg (deflated 20%)\n",
            "  adding: output/226/ (stored 0%)\n",
            "  adding: output/226/frame1686_label.jpg (deflated 35%)\n",
            "  adding: output/226/frame3246_label.jpg (deflated 26%)\n",
            "  adding: output/179/ (stored 0%)\n",
            "  adding: output/179/594679_label.jpg (deflated 13%)\n",
            "  adding: output/179/760057_label.jpg (deflated 22%)\n",
            "  adding: output/179/346485_label.jpg (deflated 16%)\n",
            "  adding: output/179/884940_label.jpg (deflated 23%)\n",
            "  adding: output/179/956796_label.jpg (deflated 23%)\n",
            "  adding: output/251/ (stored 0%)\n",
            "  adding: output/251/frame4640_label.jpg (deflated 20%)\n",
            "  adding: output/200/ (stored 0%)\n",
            "  adding: output/200/frame1513_label.jpg (deflated 17%)\n",
            "  adding: output/129/ (stored 0%)\n",
            "  adding: output/129/019348_label.jpg (deflated 25%)\n",
            "  adding: output/129/011338_label.jpg (deflated 18%)\n",
            "  adding: output/129/023938_label.jpg (deflated 17%)\n",
            "  adding: output/114/ (stored 0%)\n",
            "  adding: output/114/795239_label.jpg (deflated 21%)\n",
            "  adding: output/114/347720_label.jpg (deflated 21%)\n",
            "  adding: output/114/817367_label.jpg (deflated 12%)\n",
            "  adding: output/74/ (stored 0%)\n",
            "  adding: output/74/342614_label.jpg (deflated 26%)\n",
            "  adding: output/74/408258_label.jpg (deflated 28%)\n",
            "  adding: output/74/198202_label.jpg (deflated 20%)\n",
            "  adding: output/366/ (stored 0%)\n",
            "  adding: output/366/frame20268_label.jpg (deflated 14%)\n",
            "  adding: output/366/frame25585_label.jpg (deflated 21%)\n",
            "  adding: output/366/frame27350_label.jpg (deflated 16%)\n",
            "  adding: output/366/frame22024_label.jpg (deflated 25%)\n",
            "  adding: output/12/ (stored 0%)\n",
            "  adding: output/12/543283_label.jpg (deflated 29%)\n",
            "  adding: output/12/155929_label.jpg (deflated 19%)\n",
            "  adding: output/12/757353_label.jpg (deflated 11%)\n",
            "  adding: output/12/943335_label.jpg (deflated 19%)\n",
            "  adding: output/27/ (stored 0%)\n",
            "  adding: output/27/424942_label.jpg (deflated 21%)\n",
            "  adding: output/27/624644_label.jpg (deflated 25%)\n",
            "  adding: output/27/034562_label.jpg (deflated 22%)\n",
            "  adding: output/27/362800_label.jpg (deflated 22%)\n",
            "  adding: output/27/825633_label.jpg (deflated 21%)\n",
            "  adding: output/27/284984_label.jpg (deflated 21%)\n",
            "  adding: output/27/490700_label.jpg (deflated 20%)\n",
            "  adding: output/27/285412_label.jpg (deflated 27%)\n",
            "  adding: output/27/292016_label.jpg (deflated 22%)\n",
            "  adding: output/343/ (stored 0%)\n",
            "  adding: output/343/frame33417_label.jpg (deflated 18%)\n",
            "  adding: output/343/frame11408_label.jpg (deflated 16%)\n",
            "  adding: output/343/frame27117_label.jpg (deflated 15%)\n",
            "  adding: output/343/frame16617_label.jpg (deflated 18%)\n",
            "  adding: output/343/frame1419_label.jpg (deflated 22%)\n",
            "  adding: output/343/frame13535_label.jpg (deflated 13%)\n",
            "  adding: output/343/frame15226_label.jpg (deflated 19%)\n",
            "  adding: output/343/frame27880_label.jpg (deflated 20%)\n",
            "  adding: output/343/frame3585_label.jpg (deflated 12%)\n",
            "  adding: output/343/frame32680_label.jpg (deflated 20%)\n",
            "  adding: output/343/frame32299_label.jpg (deflated 13%)\n",
            "  adding: output/343/frame17871_label.jpg (deflated 20%)\n",
            "  adding: output/343/frame35080_label.jpg (deflated 18%)\n",
            "  adding: output/259/ (stored 0%)\n",
            "  adding: output/259/frame0014_label.jpg (deflated 18%)\n",
            "  adding: output/61/ (stored 0%)\n",
            "  adding: output/61/000495_label.jpg (deflated 19%)\n",
            "  adding: output/19/ (stored 0%)\n",
            "  adding: output/19/523513_label.jpg (deflated 22%)\n",
            "  adding: output/19/439348_label.jpg (deflated 18%)\n",
            "  adding: output/19/894649_label.jpg (deflated 13%)\n",
            "  adding: output/19/762865_label.jpg (deflated 22%)\n",
            "  adding: output/19/090189_label.jpg (deflated 17%)\n",
            "  adding: output/19/171279_label.jpg (deflated 11%)\n",
            "  adding: output/180/ (stored 0%)\n",
            "  adding: output/180/162751_label.jpg (deflated 24%)\n",
            "  adding: output/33/ (stored 0%)\n",
            "  adding: output/33/020717_label.jpg (deflated 20%)\n",
            "  adding: output/33/011700_label.jpg (deflated 17%)\n",
            "  adding: output/33/003900_label.jpg (deflated 19%)\n",
            "  adding: output/33/023779_label.jpg (deflated 20%)\n",
            "  adding: output/33/017188_label.jpg (deflated 21%)\n",
            "  adding: output/33/014488_label.jpg (deflated 18%)\n",
            "  adding: output/33/026343_label.jpg (deflated 22%)\n",
            "  adding: output/169/ (stored 0%)\n",
            "  adding: output/169/150252_label.jpg (deflated 16%)\n",
            "  adding: output/169/422322_label.jpg (deflated 19%)\n",
            "  adding: output/169/096376_label.jpg (deflated 16%)\n",
            "  adding: output/169/897918_label.jpg (deflated 21%)\n",
            "  adding: output/169/753679_label.jpg (deflated 20%)\n",
            "  adding: output/169/808244_label.jpg (deflated 19%)\n",
            "  adding: output/169/297364_label.jpg (deflated 19%)\n",
            "  adding: output/169/542602_label.jpg (deflated 24%)\n",
            "  adding: output/169/550819_label.jpg (deflated 29%)\n",
            "  adding: output/365/ (stored 0%)\n",
            "  adding: output/365/frame0003_label.jpg (deflated 19%)\n",
            "  adding: output/228/ (stored 0%)\n",
            "  adding: output/228/frame15171_label.jpg (deflated 29%)\n",
            "  adding: output/208/ (stored 0%)\n",
            "  adding: output/208/frame4497_label.jpg (deflated 15%)\n",
            "  adding: output/208/frame4646_label.jpg (deflated 19%)\n",
            "  adding: output/208/frame6247_label.jpg (deflated 13%)\n",
            "  adding: output/208/frame2890_label.jpg (deflated 15%)\n",
            "  adding: output/208/frame8666_label.jpg (deflated 21%)\n",
            "  adding: output/73/ (stored 0%)\n",
            "  adding: output/73/003361_label.jpg (deflated 22%)\n",
            "  adding: output/73/015579_label.jpg (deflated 25%)\n",
            "  adding: output/73/001261_label.jpg (deflated 16%)\n",
            "  adding: output/73/002287_label.jpg (deflated 19%)\n",
            "  adding: output/451/ (stored 0%)\n",
            "  adding: output/451/0004703_label.jpg (deflated 16%)\n",
            "  adding: output/271/ (stored 0%)\n",
            "  adding: output/271/frame13999_label.jpg (deflated 19%)\n",
            "  adding: output/271/frame32762_label.jpg (deflated 11%)\n",
            "  adding: output/271/frame92871_label.jpg (deflated 22%)\n",
            "  adding: output/271/frame11708_label.jpg (deflated 21%)\n",
            "  adding: output/271/frame59380_label.jpg (deflated 22%)\n",
            "  adding: output/271/frame47053_label.jpg (deflated 12%)\n",
            "  adding: output/271/frame28071_label.jpg (deflated 16%)\n",
            "  adding: output/271/frame49453_label.jpg (deflated 16%)\n",
            "  adding: output/271/frame12362_label.jpg (deflated 12%)\n",
            "  adding: output/271/frame10071_label.jpg (deflated 17%)\n",
            "  adding: output/271/frame22944_label.jpg (deflated 18%)\n",
            "  adding: output/271/frame27417_label.jpg (deflated 15%)\n",
            "  adding: output/271/frame9429_label.jpg (deflated 19%)\n",
            "  adding: output/271/frame50217_label.jpg (deflated 14%)\n",
            "  adding: output/271/frame26435_label.jpg (deflated 22%)\n",
            "  adding: output/271/frame4989_label.jpg (deflated 19%)\n",
            "  adding: output/480/ (stored 0%)\n",
            "  adding: output/480/0030390_label.jpg (deflated 19%)\n",
            "  adding: output/480/0018467_label.jpg (deflated 15%)\n",
            "  adding: output/480/0019936_label.jpg (deflated 10%)\n",
            "  adding: output/480/0025912_label.jpg (deflated 19%)\n",
            "  adding: output/480/0017854_label.jpg (deflated 19%)\n",
            "  adding: output/480/0000451_label.jpg (deflated 23%)\n",
            "  adding: output/480/0026172_label.jpg (deflated 15%)\n",
            "  adding: output/480/0023863_label.jpg (deflated 11%)\n",
            "  adding: output/480/0020590_label.jpg (deflated 20%)\n",
            "  adding: output/480/0015623_label.jpg (deflated 14%)\n",
            "  adding: output/480/0028344_label.jpg (deflated 20%)\n",
            "  adding: output/229/ (stored 0%)\n",
            "  adding: output/229/frame5088_label.jpg (deflated 14%)\n",
            "  adding: output/381/ (stored 0%)\n",
            "  adding: output/381/frame14380_label.jpg (deflated 22%)\n",
            "  adding: output/381/frame4800_label.jpg (deflated 26%)\n",
            "  adding: output/381/frame4230_label.jpg (deflated 27%)\n",
            "  adding: output/244/ (stored 0%)\n",
            "  adding: output/244/frame0512_label.jpg (deflated 18%)\n",
            "  adding: output/14/ (stored 0%)\n",
            "  adding: output/14/829567_label.jpg (deflated 16%)\n",
            "  adding: output/14/964050_label.jpg (deflated 22%)\n",
            "  adding: output/14/983201_label.jpg (deflated 17%)\n",
            "  adding: output/542/ (stored 0%)\n",
            "  adding: output/542/frame0249_label.jpg (deflated 31%)\n",
            "  adding: output/249/ (stored 0%)\n",
            "  adding: output/249/frame0014_label.jpg (deflated 27%)\n",
            "  adding: output/531/ (stored 0%)\n",
            "  adding: output/531/0011572_label.jpg (deflated 22%)\n",
            "  adding: output/531/0007467_label.jpg (deflated 13%)\n",
            "  adding: output/531/0002893_label.jpg (deflated 17%)\n",
            "  adding: output/531/0009870_label.jpg (deflated 19%)\n",
            "  adding: output/531/0000961_label.jpg (deflated 20%)\n",
            "  adding: output/531/0013147_label.jpg (deflated 22%)\n",
            "  adding: output/531/0004301_label.jpg (deflated 26%)\n",
            "  adding: output/531/0001996_label.jpg (deflated 17%)\n",
            "  adding: output/112/ (stored 0%)\n",
            "  adding: output/112/906478_label.jpg (deflated 12%)\n",
            "  adding: output/450/ (stored 0%)\n",
            "  adding: output/450/frame2553_label.jpg (deflated 14%)\n",
            "  adding: output/450/frame7803_label.jpg (deflated 25%)\n",
            "  adding: output/450/frame13799_label.jpg (deflated 16%)\n",
            "  adding: output/15/ (stored 0%)\n",
            "  adding: output/15/233193_label.jpg (deflated 14%)\n",
            "  adding: output/15/173697_label.jpg (deflated 14%)\n",
            "  adding: output/15/463302_label.jpg (deflated 12%)\n",
            "  adding: output/15/689896_label.jpg (deflated 18%)\n",
            "  adding: output/15/737163_label.jpg (deflated 23%)\n",
            "  adding: output/15/524627_label.jpg (deflated 18%)\n",
            "  adding: output/15/459109_label.jpg (deflated 20%)\n",
            "  adding: output/15/833292_label.jpg (deflated 14%)\n",
            "  adding: output/15/168638_label.jpg (deflated 12%)\n",
            "  adding: output/15/705313_label.jpg (deflated 14%)\n",
            "  adding: output/15/087915_label.jpg (deflated 19%)\n",
            "  adding: output/15/272628_label.jpg (deflated 21%)\n",
            "  adding: output/15/206349_label.jpg (deflated 20%)\n",
            "  adding: output/15/669336_label.jpg (deflated 19%)\n",
            "  adding: output/345/ (stored 0%)\n",
            "  adding: output/345/frame0469_label.jpg (deflated 13%)\n",
            "  adding: output/484/ (stored 0%)\n",
            "  adding: output/484/frame2353_label.jpg (deflated 22%)\n",
            "  adding: output/159/ (stored 0%)\n",
            "  adding: output/159/627463_label.jpg (deflated 19%)\n",
            "  adding: output/83/ (stored 0%)\n",
            "  adding: output/83/478467_label.jpg (deflated 14%)\n",
            "  adding: output/83/501097_label.jpg (deflated 19%)\n",
            "  adding: output/83/425664_label.jpg (deflated 12%)\n",
            "  adding: output/83/477950_label.jpg (deflated 18%)\n",
            "  adding: output/256/ (stored 0%)\n",
            "  adding: output/256/frame1628_label.jpg (deflated 30%)\n",
            "  adding: output/324/ (stored 0%)\n",
            "  adding: output/324/frame31944_label.jpg (deflated 22%)\n",
            "  adding: output/324/frame35599_label.jpg (deflated 20%)\n",
            "  adding: output/324/frame19788_label.jpg (deflated 17%)\n",
            "  adding: output/324/frame17462_label.jpg (deflated 16%)\n",
            "  adding: output/324/frame8725_label.jpg (deflated 15%)\n",
            "  adding: output/324/frame31242_label.jpg (deflated 16%)\n",
            "  adding: output/324/frame20422_label.jpg (deflated 16%)\n",
            "  adding: output/324/frame6355_label.jpg (deflated 12%)\n",
            "  adding: output/324/frame18077_label.jpg (deflated 21%)\n",
            "  adding: output/425/ (stored 0%)\n",
            "  adding: output/425/frame5618_label.jpg (deflated 23%)\n",
            "  adding: output/254/ (stored 0%)\n",
            "  adding: output/254/frame106130_label.jpg (deflated 17%)\n",
            "  adding: output/254/frame64673_label.jpg (deflated 26%)\n",
            "  adding: output/254/frame107711_label.jpg (deflated 23%)\n",
            "  adding: output/254/frame76310_label.jpg (deflated 23%)\n",
            "  adding: output/445/ (stored 0%)\n",
            "  adding: output/445/frame0297_label.jpg (deflated 31%)\n",
            "  adding: output/526/ (stored 0%)\n",
            "  adding: output/526/frame7709_label.jpg (deflated 20%)\n",
            "  adding: output/526/frame5634_label.jpg (deflated 24%)\n",
            "  adding: output/526/frame2934_label.jpg (deflated 25%)\n",
            "  adding: output/386/ (stored 0%)\n",
            "  adding: output/386/frame13999_label.jpg (deflated 28%)\n",
            "  adding: output/386/frame14380_label.jpg (deflated 19%)\n",
            "  adding: output/386/frame12444_label.jpg (deflated 22%)\n",
            "  adding: output/386/frame10017_label.jpg (deflated 18%)\n",
            "  adding: output/109/ (stored 0%)\n",
            "  adding: output/109/018066_label.jpg (deflated 23%)\n",
            "  adding: output/109/005571_label.jpg (deflated 25%)\n",
            "  adding: output/109/014818_label.jpg (deflated 14%)\n",
            "  adding: output/109/016532_label.jpg (deflated 21%)\n",
            "  adding: output/109/004065_label.jpg (deflated 21%)\n",
            "  adding: output/109/026122_label.jpg (deflated 23%)\n",
            "  adding: output/344/ (stored 0%)\n",
            "  adding: output/344/frame0899_label.jpg (deflated 17%)\n",
            "  adding: output/134/ (stored 0%)\n",
            "  adding: output/134/917053_label.jpg (deflated 15%)\n",
            "  adding: output/134/978960_label.jpg (deflated 19%)\n",
            "  adding: output/92/ (stored 0%)\n",
            "  adding: output/92/941649_label.jpg (deflated 34%)\n",
            "  adding: output/92/635434_label.jpg (deflated 16%)\n",
            "  adding: output/92/824026_label.jpg (deflated 24%)\n",
            "  adding: output/8/ (stored 0%)\n",
            "  adding: output/8/829317_label.jpg (deflated 20%)\n",
            "  adding: output/8/973487_label.jpg (deflated 17%)\n",
            "  adding: output/8/984713_label.jpg (deflated 25%)\n",
            "  adding: output/8/495782_label.jpg (deflated 16%)\n",
            "  adding: output/8/721186_label.jpg (deflated 16%)\n",
            "  adding: output/8/590002_label.jpg (deflated 21%)\n",
            "  adding: output/8/493615_label.jpg (deflated 16%)\n",
            "  adding: output/8/748780_label.jpg (deflated 21%)\n",
            "  adding: output/8/493967_label.jpg (deflated 18%)\n",
            "  adding: output/8/505327_label.jpg (deflated 22%)\n",
            "  adding: output/8/634537_label.jpg (deflated 27%)\n",
            "  adding: output/8/004475_label.jpg (deflated 18%)\n",
            "  adding: output/8/703979_label.jpg (deflated 32%)\n",
            "  adding: output/8/561264_label.jpg (deflated 32%)\n",
            "  adding: output/8/500867_label.jpg (deflated 33%)\n",
            "  adding: output/8/013613_label.jpg (deflated 24%)\n",
            "  adding: output/113/ (stored 0%)\n",
            "  adding: output/113/015679_label.jpg (deflated 13%)\n",
            "  adding: output/113/016879_label.jpg (deflated 17%)\n",
            "  adding: output/113/013879_label.jpg (deflated 13%)\n",
            "  adding: output/113/003900_label.jpg (deflated 14%)\n",
            "  adding: output/113/010579_label.jpg (deflated 22%)\n",
            "  adding: output/113/012679_label.jpg (deflated 15%)\n",
            "  adding: output/123/ (stored 0%)\n",
            "  adding: output/123/294914_label.jpg (deflated 20%)\n",
            "  adding: output/123/954693_label.jpg (deflated 17%)\n"
          ],
          "name": "stdout"
        }
      ]
    },
    {
      "cell_type": "code",
      "metadata": {
        "id": "cwom7TI0-IXz",
        "colab_type": "code",
        "colab": {
          "base_uri": "https://localhost:8080/",
          "height": 173
        },
        "outputId": "63c8b713-71ae-43e9-e6ec-010f37060a01"
      },
      "source": [
        "!sudo apt install zip unzip"
      ],
      "execution_count": 52,
      "outputs": [
        {
          "output_type": "stream",
          "text": [
            "\rReading package lists... 0%\r\rReading package lists... 0%\r\rReading package lists... 0%\r\rReading package lists... 7%\r\rReading package lists... 7%\r\rReading package lists... 7%\r\rReading package lists... 7%\r\rReading package lists... 66%\r\rReading package lists... 66%\r\rReading package lists... 67%\r\rReading package lists... 67%\r\rReading package lists... 73%\r\rReading package lists... 73%\r\rReading package lists... 73%\r\rReading package lists... 73%\r\rReading package lists... 82%\r\rReading package lists... 82%\r\rReading package lists... 82%\r\rReading package lists... 82%\r\rReading package lists... 82%\r\rReading package lists... 82%\r\rReading package lists... 82%\r\rReading package lists... 82%\r\rReading package lists... 87%\r\rReading package lists... 87%\r\rReading package lists... 87%\r\rReading package lists... 87%\r\rReading package lists... 93%\r\rReading package lists... 93%\r\rReading package lists... 93%\r\rReading package lists... 93%\r\rReading package lists... 93%\r\rReading package lists... 93%\r\rReading package lists... 94%\r\rReading package lists... 94%\r\rReading package lists... 95%\r\rReading package lists... 95%\r\rReading package lists... 95%\r\rReading package lists... 98%\r\rReading package lists... 98%\r\rReading package lists... 98%\r\rReading package lists... 98%\r\rReading package lists... Done\r\n",
            "\rBuilding dependency tree... 0%\r\rBuilding dependency tree... 0%\r\rBuilding dependency tree... 50%\r\rBuilding dependency tree... 50%\r\rBuilding dependency tree       \r\n",
            "\rReading state information... 0%\r\rReading state information... 0%\r\rReading state information... Done\r\n",
            "unzip is already the newest version (6.0-21ubuntu1).\n",
            "zip is already the newest version (3.0-11build1).\n",
            "The following package was automatically installed and is no longer required:\n",
            "  libnvidia-common-430\n",
            "Use 'sudo apt autoremove' to remove it.\n",
            "0 upgraded, 0 newly installed, 0 to remove and 32 not upgraded.\n"
          ],
          "name": "stdout"
        }
      ]
    }
  ]
}